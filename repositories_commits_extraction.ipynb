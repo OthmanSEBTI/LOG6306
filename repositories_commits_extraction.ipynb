{
 "cells": [
  {
   "cell_type": "code",
   "execution_count": 1,
   "metadata": {},
   "outputs": [],
   "source": [
    "import os\n",
    "\n",
    "reposLinks = open('./repositories_links.txt','r',encoding='UTF-8')\n",
    "links = reposLinks.readlines()\n"
   ]
  },
  {
   "attachments": {},
   "cell_type": "markdown",
   "metadata": {},
   "source": [
    "### Repositories cloning"
   ]
  },
  {
   "cell_type": "code",
   "execution_count": null,
   "metadata": {},
   "outputs": [],
   "source": [
    "\n",
    "os.chdir('/mnt/c/Users/Othman/Desktop/TP-LOG6306/LOG6306/repositories')\n",
    "\n",
    "for link in links:\n",
    "    os.system('git clone ' + link.strip('\\n'))"
   ]
  },
  {
   "attachments": {},
   "cell_type": "markdown",
   "metadata": {},
   "source": [
    "### Commits extraction"
   ]
  },
  {
   "cell_type": "code",
   "execution_count": 2,
   "metadata": {},
   "outputs": [
    {
     "name": "stderr",
     "output_type": "stream",
     "text": [
      "fatal: your current branch 'master' does not have any commits yet\n"
     ]
    }
   ],
   "source": [
    "repos = os.listdir()\n",
    "\n",
    "for repo in repos:\n",
    "    os.chdir('/mnt/c/Users/Othman/Desktop/TP-LOG6306/LOG6306/repositories/' + repo)\n",
    "    os.system(\"git log --pretty='%H|%s|%aD|%cD' --date-order > ../../commits/\" + repo)"
   ]
  }
 ],
 "metadata": {
  "kernelspec": {
   "display_name": "Python 3",
   "language": "python",
   "name": "python3"
  },
  "language_info": {
   "codemirror_mode": {
    "name": "ipython",
    "version": 3
   },
   "file_extension": ".py",
   "mimetype": "text/x-python",
   "name": "python",
   "nbconvert_exporter": "python",
   "pygments_lexer": "ipython3",
   "version": "3.10.6"
  },
  "orig_nbformat": 4
 },
 "nbformat": 4,
 "nbformat_minor": 2
}
