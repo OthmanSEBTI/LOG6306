{
 "cells": [
  {
   "cell_type": "code",
   "execution_count": 15,
   "metadata": {},
   "outputs": [
    {
     "name": "stdout",
     "output_type": "stream",
     "text": [
      "{'cloudfoundry-incubator/diego-release', 'BSWANG/denverdino.github.io', 'ITISFoundation/osparc-lab', 'CrunchyData/crunchy-postgresql-manager', 'unbalancedparentheses/docker-erlang', 'robymes/OrdinglcDocker', 'BuiltonDev/pipeline', 'overture-stack/SONG', 'ethereum/hive', 'Soluto/tweek', 'cgi-eoss/ftep', 'muccg/rdrf', 'alebabai/linden-honey', 'byran/cyber-dojo-web', 'Martin2112/trillian', 'macarthur-lab/matchbox', 'mondediefr/mondedie-chat', 'go-ggz/ggz', 'cyber-dojo-languages/image_builder', 'di-unipi-socc/DockerFinder', 'eclipse/repairnator', 'blobor/skipass.site', 'MetaBarj0/carrier', 'cdietrich/che', 'instructure/straitjacket', 'cyber-dojo/commander', 'CogStack/CogStack-Pipeline', 'cyber-dojo-retired/storer', 'geotrellis/geodocker-cluster', 'labsai/EDDI', 'luismayta/dotfiles', 'mars-lan/datahub', 'gchq/stroom', 'vietj/vertx-pg-client', 'CrunchyData/postgres-operator', 'stafli-org/stafli.stack.php', 'ory-am/hydra', 'rancher/mesos-catalog', 'aspuru-guzik-group/mission_control', 'hexagonkt/hexagon'}\n"
     ]
    }
   ],
   "source": [
    "import pandas as pd\n",
    "\n",
    "\n",
    "dataFrame = pd.read_csv('Bigquery_repositories_results_only_docker.csv')\n",
    "dataFrame1 = pd.read_csv('Studied Projects - Raw Data.csv')\n",
    "\n",
    "resulting_repositories = set(dataFrame['repo_name'].tolist())\n",
    "studied_repositories = set(dataFrame1['Repository'].tolist())\n",
    "\n",
    "print(studied_repositories.difference(resulting_repositories))\n"
   ]
  }
 ],
 "metadata": {
  "kernelspec": {
   "display_name": "Python 3",
   "language": "python",
   "name": "python3"
  },
  "language_info": {
   "codemirror_mode": {
    "name": "ipython",
    "version": 3
   },
   "file_extension": ".py",
   "mimetype": "text/x-python",
   "name": "python",
   "nbconvert_exporter": "python",
   "pygments_lexer": "ipython3",
   "version": "3.10.6"
  },
  "orig_nbformat": 4
 },
 "nbformat": 4,
 "nbformat_minor": 2
}
