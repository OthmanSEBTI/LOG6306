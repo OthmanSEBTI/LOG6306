{
 "cells": [
  {
   "cell_type": "code",
   "execution_count": 11,
   "metadata": {},
   "outputs": [
    {
     "name": "stdout",
     "output_type": "stream",
     "text": [
      "16\n"
     ]
    }
   ],
   "source": [
    "import pandas as pd\n",
    "\n",
    "\n",
    "dataFrame = pd.read_csv('Bigquery_repositories_results.csv')\n",
    "dataFrame1 = pd.read_csv('Studied Projects - Raw Data.csv')\n",
    "\n",
    "resulting_repositories = set(dataFrame['repo_name'].tolist())\n",
    "studied_repositories = set(dataFrame1['Repository'].tolist())\n",
    "\n",
    "print(len(resulting_repositories.intersection(studied_repositories)))"
   ]
  }
 ],
 "metadata": {
  "kernelspec": {
   "display_name": "Python 3",
   "language": "python",
   "name": "python3"
  },
  "language_info": {
   "codemirror_mode": {
    "name": "ipython",
    "version": 3
   },
   "file_extension": ".py",
   "mimetype": "text/x-python",
   "name": "python",
   "nbconvert_exporter": "python",
   "pygments_lexer": "ipython3",
   "version": "3.10.6"
  },
  "orig_nbformat": 4
 },
 "nbformat": 4,
 "nbformat_minor": 2
}
