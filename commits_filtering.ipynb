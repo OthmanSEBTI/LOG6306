{
 "cells": [
  {
   "attachments": {},
   "cell_type": "markdown",
   "metadata": {},
   "source": [
    "### Filter commits including docker refactoring"
   ]
  },
  {
   "cell_type": "code",
   "execution_count": 6,
   "metadata": {},
   "outputs": [],
   "source": [
    "import pandas as pd\n",
    "import re\n",
    "import os\n",
    "\n",
    "pattern_list=['docker','refactor']\n",
    "\n",
    "for f in os.listdir('./commits'):\n",
    "    file = open('./commits/'+f,'r', encoding='UTF-8')\n",
    "    lines = file.readlines()\n",
    "    repo_name = [f] * len(lines)\n",
    "    sha=[]\n",
    "    message =[]\n",
    "    for line in lines :\n",
    "        sha.append(line.split('|')[0])\n",
    "        message.append(line.split('|')[1])\n",
    "    \n",
    "    df= pd.DataFrame(data = {'repo_name' : repo_name , 'sha' : sha , 'message' :message})\n",
    "    for i in range(0,df.shape[0]) :\n",
    "        Bool=True\n",
    "        for pattern in pattern_list : Bool=Bool and bool(re.search(pattern,df['message'][i]))\n",
    "        if Bool == False :\n",
    "            df.drop(i,inplace=True)\n",
    "    df.to_csv('./Docker_refactoring_commits/'+f)\n",
    "    "
   ]
  },
  {
   "attachments": {},
   "cell_type": "markdown",
   "metadata": {},
   "source": [
    "### Make one file for all docker refactoring commits"
   ]
  },
  {
   "cell_type": "code",
   "execution_count": 10,
   "metadata": {},
   "outputs": [],
   "source": [
    "repo_name = []\n",
    "sha=[]\n",
    "message =[]\n",
    "for f in os.listdir('./Docker_refactoring_commits'):\n",
    "    file = open('./Docker_refactoring_commits/'+f,'r', encoding='UTF-8')\n",
    "    lines = file.readlines()\n",
    "    for line in lines[1:] :\n",
    "        repo_name.append(line.split(',')[1])\n",
    "        sha.append(line.split(',')[2])\n",
    "        message.append(line.split(',')[3])\n",
    "    \n",
    "extracted_docker_refactoring_commits = pd.DataFrame(data = {'repo_name' : repo_name , 'sha' : sha , 'message' :message})\n",
    "extracted_docker_refactoring_commits.to_csv('./Our_results/All_docker_refactoring_commits.csv')"
   ]
  }
 ],
 "metadata": {
  "kernelspec": {
   "display_name": "Python 3",
   "language": "python",
   "name": "python3"
  },
  "language_info": {
   "codemirror_mode": {
    "name": "ipython",
    "version": 3
   },
   "file_extension": ".py",
   "mimetype": "text/x-python",
   "name": "python",
   "nbconvert_exporter": "python",
   "pygments_lexer": "ipython3",
   "version": "3.10.6"
  },
  "orig_nbformat": 4
 },
 "nbformat": 4,
 "nbformat_minor": 2
}
